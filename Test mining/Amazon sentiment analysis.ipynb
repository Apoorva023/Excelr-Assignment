{
 "cells": [
  {
   "cell_type": "markdown",
   "id": "ebf3f404",
   "metadata": {},
   "source": [
    " TWO:\n",
    "1) Extract reviews of any product from ecommerce website like amazon\n",
    "2) Perform emotion mining"
   ]
  },
  {
   "cell_type": "markdown",
   "id": "94440721",
   "metadata": {},
   "source": [
    "# Product 1: Samsung Galaxy A14 5G\n",
    "'https://www.amazon.in/Samsung-Galaxy-Storage-Without-Charger/product-reviews/B0BS17HY8N/ref=cm_cr_dp_d_show_all_btm?ie=UTF8&reviewerType=all_reviews'"
   ]
  },
  {
   "cell_type": "code",
   "execution_count": 1,
   "id": "a692ec7d",
   "metadata": {},
   "outputs": [],
   "source": [
    "import requests\n",
    "from bs4 import BeautifulSoup\n",
    "from nltk.sentiment.vader import SentimentIntensityAnalyzer"
   ]
  },
  {
   "cell_type": "code",
   "execution_count": 2,
   "id": "2d4c484e",
   "metadata": {},
   "outputs": [],
   "source": [
    "# Function to extract reviews from Amazon page\n",
    "def extract_reviews(url):\n",
    "    response = requests.get(url)\n",
    "    soup = BeautifulSoup(response.text, 'html.parser')\n",
    "    reviews = []\n",
    "    review_elements = soup.find_all('div', {'data-hook': 'review'})\n",
    "    for element in review_elements:\n",
    "        review = element.find('span', {'data-hook': 'review-body'}).text.strip()\n",
    "        reviews.append(review)\n",
    "    return reviews"
   ]
  },
  {
   "cell_type": "code",
   "execution_count": 3,
   "id": "b944847e",
   "metadata": {},
   "outputs": [],
   "source": [
    "# Function to perform emotion mining using Vader SentimentIntensityAnalyzer\n",
    "def perform_emotion_mining(reviews):\n",
    "    sid = SentimentIntensityAnalyzer()\n",
    "    emotions = []\n",
    "    for review in reviews:\n",
    "        sentiment_scores = sid.polarity_scores(review)\n",
    "        if sentiment_scores['compound'] >= 0.05:\n",
    "            emotion = 'Positive'\n",
    "        elif sentiment_scores['compound'] <= -0.05:\n",
    "            emotion = 'Negative'\n",
    "        else:\n",
    "            emotion = 'Neutral'\n",
    "        emotions.append(emotion)\n",
    "    return emotions\n",
    "\n",
    "\n",
    "url = 'https://www.amazon.in/Samsung-Galaxy-Storage-Without-Charger/product-reviews/B0BS17HY8N/ref=cm_cr_dp_d_show_all_btm?ie=UTF8&reviewerType=all_reviews'\n",
    "reviews = extract_reviews(url)\n",
    "emotions = perform_emotion_mining(reviews)"
   ]
  },
  {
   "cell_type": "code",
   "execution_count": 4,
   "id": "7d1c4784",
   "metadata": {},
   "outputs": [
    {
     "name": "stdout",
     "output_type": "stream",
     "text": [
      "Review 1: 1month review - Phone is light weight.  I bought light green color. It's look beautiful.  Everyone  like this. Usage of the device is good.Sound and camera clarity is not satisfied. If sound and camera is good its fully worth for the amount 21,000. Sound is not that much high  but getting soft and clear sound.If internet usage is low battery capacity is upto 2 days.\n",
      "Emotion: Positive\n",
      "\n",
      "Review 2: Good\n",
      "Emotion: Positive\n",
      "\n",
      "Review 3: Nice\n",
      "Emotion: Positive\n",
      "\n",
      "Review 4: Kindly let me know what to do with a charger wire when the plug is missing ?\n",
      "Emotion: Positive\n",
      "\n",
      "Review 5: If they provided charger too, it will great experience but unfortunately samsung 🇰🇷📱not provided charger with phone.\n",
      "Emotion: Negative\n",
      "\n",
      "Review 6: Other than the battery 🔋, the phone is just OK type .Battery not even lasts for a day (12hrs) for medium use.\n",
      "Emotion: Positive\n",
      "\n",
      "Review 7: The phone is decent as per price range.Better to exchange some old phone to get it at lower price.Camera is also fine.The dimensions are not fine for me, as it looks and feels bulkier.Overall a decent phone for basic use.\n",
      "Emotion: Negative\n",
      "\n",
      "Review 8: Good\n",
      "Emotion: Positive\n",
      "\n",
      "Review 9: Bad  camera. Battery is average. Connectivity is good. Screen is average. But  packing is most unprofessional. Can't imagine it's comes with 8kg surf packet.\n",
      "Emotion: Negative\n",
      "\n",
      "Review 10: Very nice and easy to use\n",
      "Emotion: Positive\n",
      "\n"
     ]
    }
   ],
   "source": [
    "\n",
    "# Print extracted reviews and corresponding emotions\n",
    "for i in range(len(reviews)):\n",
    "    print(f\"Review {i+1}: {reviews[i]}\")\n",
    "    print(f\"Emotion: {emotions[i]}\")\n",
    "    print()"
   ]
  },
  {
   "cell_type": "markdown",
   "id": "21922a4d",
   "metadata": {},
   "source": [
    "There are 7 postive review and 3 negative reviews are present"
   ]
  },
  {
   "cell_type": "markdown",
   "id": "5f46b019",
   "metadata": {},
   "source": [
    "# Product 2 : Tommy Hilfiger Analog Pink Dial Women's Watch"
   ]
  },
  {
   "cell_type": "code",
   "execution_count": 10,
   "id": "e19aab11",
   "metadata": {},
   "outputs": [
    {
     "name": "stdout",
     "output_type": "stream",
     "text": [
      "Review 1: The watch is classy & beautiful, but came in a dirty dented boxes .I had to change the box before gifting\n",
      "Emotion: Positive\n",
      "\n",
      "Review 2: It is nice watch\n",
      "Emotion: Positive\n",
      "\n",
      "Review 3: Best watch in the specified price segment.I searched for a lot of watches and finally found this one and bought it for my sister and she really liked it.I bought this watch for around ₹5,500 but it was worth the price although I didn't liked the packaging much as it was a Tommy Hilfiger watch I expected a luxurious box though the box was just okay but the watch was really gorgeous.Overall a good purchase.\n",
      "Emotion: Positive\n",
      "\n",
      "Review 4: Very nice watch\n",
      "Emotion: Positive\n",
      "\n",
      "Review 5: Beautiful watch\n",
      "Emotion: Negative\n",
      "\n",
      "Review 6: Extremely happy\n",
      "Emotion: Positive\n",
      "\n",
      "Review 7: It has scratches\n",
      "Emotion: Negative\n",
      "\n",
      "Review 8: Got this watch for my mother. Loved it from the very first time I saw it online. Very chic, elegant and the floral designs on thé dial are wow. Worth every penny I would say.\n",
      "Emotion: Positive\n",
      "\n",
      "Review 9: Its a good watch but not a new one... There is no seal cover to it... Nd the packaging was not proper\n",
      "Emotion: Negative\n",
      "\n"
     ]
    }
   ],
   "source": [
    "urlhead=\"https://www.amazon.in/Tommy-Hilfiger-Analog-Womens-Watch/product-reviews/B07GJWMWCB/ref=cm_cr_dp_d_show_all_btm?ie=UTF8&reviewerType=all_reviews\"\n",
    "reviews1 = extract_reviews(urlhead)\n",
    "emotions1 = perform_emotion_mining(reviews)\n",
    "\n",
    "for i in range(len(reviews1)):\n",
    "    print(f\"Review {i+1}: {reviews1[i]}\")\n",
    "    print(f\"Emotion: {emotions1[i]}\")\n",
    "    print()   "
   ]
  },
  {
   "cell_type": "markdown",
   "id": "a4ab6c6d",
   "metadata": {},
   "source": [
    "As we can see from above, this product has 6 positive reviews and 3 negative reviews"
   ]
  }
 ],
 "metadata": {
  "kernelspec": {
   "display_name": "Python 3 (ipykernel)",
   "language": "python",
   "name": "python3"
  },
  "language_info": {
   "codemirror_mode": {
    "name": "ipython",
    "version": 3
   },
   "file_extension": ".py",
   "mimetype": "text/x-python",
   "name": "python",
   "nbconvert_exporter": "python",
   "pygments_lexer": "ipython3",
   "version": "3.9.13"
  }
 },
 "nbformat": 4,
 "nbformat_minor": 5
}
